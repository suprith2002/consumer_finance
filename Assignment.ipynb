{
 "cells": [
  {
   "cell_type": "markdown",
   "id": "402a6b4b",
   "metadata": {},
   "source": [
    "# 2. Given an unsorted array of integers, find the length of the longest continuous increasing subsequence (subarray)."
   ]
  },
  {
   "cell_type": "markdown",
   "id": "2f9ea09a",
   "metadata": {},
   "source": [
    "Example 1:\n",
    "Input: [1,3,5,4,7]\n",
    "Output: 3"
   ]
  },
  {
   "cell_type": "code",
   "execution_count": 2,
   "id": "4be38aac",
   "metadata": {},
   "outputs": [
    {
     "name": "stdout",
     "output_type": "stream",
     "text": [
      "Length of the longest continuous increasing subsequence: 3\n"
     ]
    }
   ],
   "source": [
    "def ang(nums):\n",
    "    if not nums:\n",
    "        return 0\n",
    "    \n",
    "    max_len=1\n",
    "    curr_len=1\n",
    "    \n",
    "    for i in range(1,len(nums)):\n",
    "        if nums[i]>nums[i-1]:\n",
    "            curr_len+=1\n",
    "            max_len=max(max_len,curr_len)\n",
    "        else:\n",
    "            curr_len=1\n",
    "            \n",
    "    return max_len\n",
    "\n",
    "#\n",
    "nums=[1,3,5,4,7]\n",
    "print(\"Length of the longest continuous increasing subsequence:\", ang(nums))\n",
    "\n",
    "            \n",
    "            \n",
    "    "
   ]
  },
  {
   "cell_type": "code",
   "execution_count": 4,
   "id": "796d9bc0",
   "metadata": {},
   "outputs": [
    {
     "name": "stdout",
     "output_type": "stream",
     "text": [
      "Length of the longest continuous increasing subsequence: 1\n"
     ]
    }
   ],
   "source": [
    "def ang(nums):\n",
    "    if not nums:\n",
    "        return 0\n",
    "    \n",
    "    max_len=1\n",
    "    curr_len=1\n",
    "    \n",
    "    for i in range(1,len(nums)):\n",
    "        if nums[i]>nums[i-1]:\n",
    "            curr_len+=1\n",
    "            max_len=max(max_len,curr_len)\n",
    "        else:\n",
    "            curr_len=1\n",
    "            \n",
    "    return max_len\n",
    "\n",
    "#\n",
    "nums=[2,2,2,2,2]\n",
    "print(\"Length of the longest continuous increasing subsequence:\", ang(nums))\n",
    "\n",
    "            "
   ]
  },
  {
   "cell_type": "markdown",
   "id": "4f2ffe7d",
   "metadata": {},
   "source": [
    "# 3. Given a list of non negative integers, arrange them such that they form the largest number."
   ]
  },
  {
   "cell_type": "markdown",
   "id": "6a2e6d02",
   "metadata": {},
   "source": [
    "Example 1:\n",
    "Input: [10,2]\n",
    "Output: \"210\"\n"
   ]
  },
  {
   "cell_type": "code",
   "execution_count": 5,
   "id": "c2fcdc16",
   "metadata": {},
   "outputs": [],
   "source": [
    "from typing import List"
   ]
  },
  {
   "cell_type": "code",
   "execution_count": 7,
   "id": "c9e4b764",
   "metadata": {},
   "outputs": [
    {
     "name": "stdout",
     "output_type": "stream",
     "text": [
      "210\n"
     ]
    }
   ],
   "source": [
    "def large_num(nums:List[int])->str:\n",
    "    nums=list(map(str,nums))\n",
    "    \n",
    "    def comp(x,y):\n",
    "        return int(x+y)-int(y+x)\n",
    "    \n",
    "    nums.sort(key=lambda x: x*10, reverse=True)\n",
    "    nums.sort(key=lambda x: x, reverse=True)\n",
    "    \n",
    "    return str(int(''.join(nums)))\n",
    "\n",
    "nums=[10,2]\n",
    "print(large_num(nums))\n",
    "    "
   ]
  },
  {
   "cell_type": "markdown",
   "id": "f605b724",
   "metadata": {},
   "source": [
    " Example 2:\n",
    " \n",
    " Input: [3,30,34,5,9]\n",
    " Output: \"9534330\"\n"
   ]
  },
  {
   "cell_type": "code",
   "execution_count": 8,
   "id": "d00ad1a1",
   "metadata": {},
   "outputs": [
    {
     "name": "stdout",
     "output_type": "stream",
     "text": [
      "9534303\n"
     ]
    }
   ],
   "source": [
    "def large_num(nums:List[int])->str:\n",
    "    nums=list(map(str,nums))\n",
    "    \n",
    "    def comp(x,y):\n",
    "        return int(x+y)-int(y+x)\n",
    "    \n",
    "    nums.sort(key=lambda x: x*10, reverse=True)\n",
    "    nums.sort(key=lambda x: x, reverse=True)\n",
    "    \n",
    "    return str(int(''.join(nums)))\n",
    "\n",
    "nums=[3,30,34,5,9]\n",
    "print(large_num(nums))\n",
    "    "
   ]
  },
  {
   "cell_type": "code",
   "execution_count": null,
   "id": "16dc11d5",
   "metadata": {},
   "outputs": [],
   "source": []
  }
 ],
 "metadata": {
  "kernelspec": {
   "display_name": "Python 3 (ipykernel)",
   "language": "python",
   "name": "python3"
  },
  "language_info": {
   "codemirror_mode": {
    "name": "ipython",
    "version": 3
   },
   "file_extension": ".py",
   "mimetype": "text/x-python",
   "name": "python",
   "nbconvert_exporter": "python",
   "pygments_lexer": "ipython3",
   "version": "3.10.9"
  }
 },
 "nbformat": 4,
 "nbformat_minor": 5
}
